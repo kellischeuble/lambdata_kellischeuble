{
 "cells": [
  {
   "cell_type": "code",
   "execution_count": 1,
   "metadata": {},
   "outputs": [
    {
     "name": "stdout",
     "output_type": "stream",
     "text": [
      "Looking in indexes: https://test.pypi.org/simple/\n",
      "Collecting lambdata-kellischeuble==0.0.1\n",
      "  Downloading https://test-files.pythonhosted.org/packages/67/1a/05dcc92c43878e0dac696e400ea25e9f4d7e4d2a0f9df2935f9efcb1fa34/lambdata_kellischeuble-0.0.1-py3-none-any.whl (1.2 kB)\n",
      "Requirement already satisfied: pandas in /Users/kellischeuble/.local/share/virtualenvs/kellischeuble-Xwi6GbCn/lib/python3.7/site-packages (from lambdata-kellischeuble==0.0.1) (1.0.1)\n",
      "Requirement already satisfied: python-dateutil>=2.6.1 in /Users/kellischeuble/.local/share/virtualenvs/kellischeuble-Xwi6GbCn/lib/python3.7/site-packages (from pandas->lambdata-kellischeuble==0.0.1) (2.8.1)\n",
      "Requirement already satisfied: numpy>=1.13.3 in /Users/kellischeuble/.local/share/virtualenvs/kellischeuble-Xwi6GbCn/lib/python3.7/site-packages (from pandas->lambdata-kellischeuble==0.0.1) (1.18.1)\n",
      "Requirement already satisfied: pytz>=2017.2 in /Users/kellischeuble/.local/share/virtualenvs/kellischeuble-Xwi6GbCn/lib/python3.7/site-packages (from pandas->lambdata-kellischeuble==0.0.1) (2019.3)\n",
      "Requirement already satisfied: six>=1.5 in /Users/kellischeuble/.local/share/virtualenvs/kellischeuble-Xwi6GbCn/lib/python3.7/site-packages (from python-dateutil>=2.6.1->pandas->lambdata-kellischeuble==0.0.1) (1.14.0)\n",
      "Installing collected packages: lambdata-kellischeuble\n",
      "Successfully installed lambdata-kellischeuble-0.0.1\n"
     ]
    }
   ],
   "source": [
    "!pip install -i https://test.pypi.org/simple/ lambdata-kellischeuble==0.0.1"
   ]
  },
  {
   "cell_type": "code",
   "execution_count": 4,
   "metadata": {},
   "outputs": [],
   "source": [
    "from my_lambdata import module"
   ]
  },
  {
   "cell_type": "code",
   "execution_count": 5,
   "metadata": {},
   "outputs": [],
   "source": [
    "import pandas as pd"
   ]
  },
  {
   "cell_type": "code",
   "execution_count": 10,
   "metadata": {},
   "outputs": [],
   "source": [
    "df = pd.DataFrame({'date': pd.to_datetime('11-13-96')}.items())"
   ]
  },
  {
   "cell_type": "code",
   "execution_count": 11,
   "metadata": {},
   "outputs": [
    {
     "data": {
      "text/html": [
       "<div>\n",
       "<style scoped>\n",
       "    .dataframe tbody tr th:only-of-type {\n",
       "        vertical-align: middle;\n",
       "    }\n",
       "\n",
       "    .dataframe tbody tr th {\n",
       "        vertical-align: top;\n",
       "    }\n",
       "\n",
       "    .dataframe thead th {\n",
       "        text-align: right;\n",
       "    }\n",
       "</style>\n",
       "<table border=\"1\" class=\"dataframe\">\n",
       "  <thead>\n",
       "    <tr style=\"text-align: right;\">\n",
       "      <th></th>\n",
       "      <th>0</th>\n",
       "      <th>1</th>\n",
       "    </tr>\n",
       "  </thead>\n",
       "  <tbody>\n",
       "    <tr>\n",
       "      <th>0</th>\n",
       "      <td>date</td>\n",
       "      <td>1996-11-13</td>\n",
       "    </tr>\n",
       "  </tbody>\n",
       "</table>\n",
       "</div>"
      ],
      "text/plain": [
       "      0          1\n",
       "0  date 1996-11-13"
      ]
     },
     "execution_count": 11,
     "metadata": {},
     "output_type": "execute_result"
    }
   ],
   "source": [
    "df"
   ]
  },
  {
   "cell_type": "code",
   "execution_count": 15,
   "metadata": {},
   "outputs": [
    {
     "data": {
      "text/html": [
       "<div>\n",
       "<style scoped>\n",
       "    .dataframe tbody tr th:only-of-type {\n",
       "        vertical-align: middle;\n",
       "    }\n",
       "\n",
       "    .dataframe tbody tr th {\n",
       "        vertical-align: top;\n",
       "    }\n",
       "\n",
       "    .dataframe thead th {\n",
       "        text-align: right;\n",
       "    }\n",
       "</style>\n",
       "<table border=\"1\" class=\"dataframe\">\n",
       "  <thead>\n",
       "    <tr style=\"text-align: right;\">\n",
       "      <th></th>\n",
       "      <th>0</th>\n",
       "      <th>1</th>\n",
       "      <th>day</th>\n",
       "      <th>month</th>\n",
       "      <th>year</th>\n",
       "    </tr>\n",
       "  </thead>\n",
       "  <tbody>\n",
       "    <tr>\n",
       "      <th>0</th>\n",
       "      <td>date</td>\n",
       "      <td>1996-11-13</td>\n",
       "      <td>13</td>\n",
       "      <td>11</td>\n",
       "      <td>1996</td>\n",
       "    </tr>\n",
       "  </tbody>\n",
       "</table>\n",
       "</div>"
      ],
      "text/plain": [
       "      0          1  day  month  year\n",
       "0  date 1996-11-13   13     11  1996"
      ]
     },
     "execution_count": 15,
     "metadata": {},
     "output_type": "execute_result"
    }
   ],
   "source": [
    "module.separate_dates(df,1)"
   ]
  },
  {
   "cell_type": "code",
   "execution_count": null,
   "metadata": {},
   "outputs": [],
   "source": []
  }
 ],
 "metadata": {
  "kernelspec": {
   "display_name": "Python 3",
   "language": "python",
   "name": "python3"
  },
  "language_info": {
   "codemirror_mode": {
    "name": "ipython",
    "version": 3
   },
   "file_extension": ".py",
   "mimetype": "text/x-python",
   "name": "python",
   "nbconvert_exporter": "python",
   "pygments_lexer": "ipython3",
   "version": "3.7.4"
  }
 },
 "nbformat": 4,
 "nbformat_minor": 4
}
